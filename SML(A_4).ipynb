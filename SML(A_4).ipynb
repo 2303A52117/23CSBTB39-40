{
  "nbformat": 4,
  "nbformat_minor": 0,
  "metadata": {
    "colab": {
      "provenance": [],
      "authorship_tag": "ABX9TyOe5QvQ2/7K83FS7a6epivj",
      "include_colab_link": true
    },
    "kernelspec": {
      "name": "python3",
      "display_name": "Python 3"
    },
    "language_info": {
      "name": "python"
    }
  },
  "cells": [
    {
      "cell_type": "markdown",
      "metadata": {
        "id": "view-in-github",
        "colab_type": "text"
      },
      "source": [
        "<a href=\"https://colab.research.google.com/github/2303A52117/23CSBTB39-40/blob/main/SML(A_4).ipynb\" target=\"_parent\"><img src=\"https://colab.research.google.com/assets/colab-badge.svg\" alt=\"Open In Colab\"/></a>"
      ]
    },
    {
      "cell_type": "code",
      "execution_count": 1,
      "metadata": {
        "colab": {
          "base_uri": "https://localhost:8080/"
        },
        "id": "o52JD4_sx6eJ",
        "outputId": "eca414c6-3144-4036-84ea-14f22c71fc57"
      },
      "outputs": [
        {
          "output_type": "stream",
          "name": "stdout",
          "text": [
            "Training feature shape: (1600, 20)\n",
            "Testing feature shape: (400, 20)\n",
            "Training target shape: (1600,)\n",
            "Testing target shape: (400,)\n"
          ]
        }
      ],
      "source": [
        "#Question-1\n",
        "import pandas as pd\n",
        "from sklearn.preprocessing import MinMaxScaler\n",
        "from sklearn.model_selection import train_test_split\n",
        "# Step 1: Read the data\n",
        "data = pd.read_csv('train.csv')\n",
        "# Assuming the target variable is the last column\n",
        "features = data.iloc[:, :-1] # All columns except the last one\n",
        "target = data.iloc[:, -1] # The last column\n",
        "# Step 2: Normalize the data\n",
        "scaler = MinMaxScaler()\n",
        "features_normalized = scaler.fit_transform(features)\n",
        "# Step 3: Split the data into train and test sets\n",
        "X_train, X_test, y_train, y_test = train_test_split(\n",
        " features_normalized, target, test_size=0.2, random_state=42)\n",
        "# Output shapes to verify\n",
        "print(f\"Training feature shape: {X_train.shape}\")\n",
        "print(f\"Testing feature shape: {X_test.shape}\")\n",
        "print(f\"Training target shape: {y_train.shape}\")\n",
        "print(f\"Testing target shape: {y_test.shape}\")\n"
      ]
    },
    {
      "cell_type": "code",
      "source": [
        "import pandas as pd\n",
        "from sklearn.model_selection import train_test_split\n",
        "from sklearn.preprocessing import StandardScaler\n",
        "# Step 1: Read the data and describe it\n",
        "data = pd.read_csv('train.csv')\n",
        "print(\"Data Description:\")\n",
        "print(data.describe())\n",
        "# Step 2: Find data type and shape of each column\n",
        "print(\"\\nData Types and Shape of Each Column:\")\n",
        "print(data.dtypes)\n",
        "print(\"Shape of Data:\", data.shape)\n",
        "# Assuming the target variable is in the last column\n",
        "# Get the name of the last column\n",
        "target_column = data.columns[-1]\n",
        "# Step 3: Extract features (X) and target (y)\n",
        "X = data.drop(columns=[target_column])\n",
        "y = data[target_column]\n",
        "# Step 4: Normalize all the features\n",
        "scaler = StandardScaler()\n",
        "X_normalized = scaler.fit_transform(X)\n",
        "# Step 5: Split the data into train and test sets\n",
        "X_train, X_test, y_train, y_test = train_test_split(X_normalized, y,\n",
        "test_size=0.2, random_state=42)\n",
        "print(\"\\nData Splitting:\")\n",
        "print(\"Training set size:\", X_train.shape)\n",
        "print(\"Test set size:\", X_test.shape)"
      ],
      "metadata": {
        "colab": {
          "base_uri": "https://localhost:8080/"
        },
        "id": "NuwrglJDzG3O",
        "outputId": "204e67ac-bb3a-4eb5-852b-800385969f40"
      },
      "execution_count": 3,
      "outputs": [
        {
          "output_type": "stream",
          "name": "stdout",
          "text": [
            "Data Description:\n",
            "       battery_power       blue  clock_speed     dual_sim           fc  \\\n",
            "count    2000.000000  2000.0000  2000.000000  2000.000000  2000.000000   \n",
            "mean     1238.518500     0.4950     1.522250     0.509500     4.309500   \n",
            "std       439.418206     0.5001     0.816004     0.500035     4.341444   \n",
            "min       501.000000     0.0000     0.500000     0.000000     0.000000   \n",
            "25%       851.750000     0.0000     0.700000     0.000000     1.000000   \n",
            "50%      1226.000000     0.0000     1.500000     1.000000     3.000000   \n",
            "75%      1615.250000     1.0000     2.200000     1.000000     7.000000   \n",
            "max      1998.000000     1.0000     3.000000     1.000000    19.000000   \n",
            "\n",
            "            four_g   int_memory        m_dep    mobile_wt      n_cores  ...  \\\n",
            "count  2000.000000  2000.000000  2000.000000  2000.000000  2000.000000  ...   \n",
            "mean      0.521500    32.046500     0.501750   140.249000     4.520500  ...   \n",
            "std       0.499662    18.145715     0.288416    35.399655     2.287837  ...   \n",
            "min       0.000000     2.000000     0.100000    80.000000     1.000000  ...   \n",
            "25%       0.000000    16.000000     0.200000   109.000000     3.000000  ...   \n",
            "50%       1.000000    32.000000     0.500000   141.000000     4.000000  ...   \n",
            "75%       1.000000    48.000000     0.800000   170.000000     7.000000  ...   \n",
            "max       1.000000    64.000000     1.000000   200.000000     8.000000  ...   \n",
            "\n",
            "         px_height     px_width          ram         sc_h         sc_w  \\\n",
            "count  2000.000000  2000.000000  2000.000000  2000.000000  2000.000000   \n",
            "mean    645.108000  1251.515500  2124.213000    12.306500     5.767000   \n",
            "std     443.780811   432.199447  1084.732044     4.213245     4.356398   \n",
            "min       0.000000   500.000000   256.000000     5.000000     0.000000   \n",
            "25%     282.750000   874.750000  1207.500000     9.000000     2.000000   \n",
            "50%     564.000000  1247.000000  2146.500000    12.000000     5.000000   \n",
            "75%     947.250000  1633.000000  3064.500000    16.000000     9.000000   \n",
            "max    1960.000000  1998.000000  3998.000000    19.000000    18.000000   \n",
            "\n",
            "         talk_time      three_g  touch_screen         wifi  price_range  \n",
            "count  2000.000000  2000.000000   2000.000000  2000.000000  2000.000000  \n",
            "mean     11.011000     0.761500      0.503000     0.507000     1.500000  \n",
            "std       5.463955     0.426273      0.500116     0.500076     1.118314  \n",
            "min       2.000000     0.000000      0.000000     0.000000     0.000000  \n",
            "25%       6.000000     1.000000      0.000000     0.000000     0.750000  \n",
            "50%      11.000000     1.000000      1.000000     1.000000     1.500000  \n",
            "75%      16.000000     1.000000      1.000000     1.000000     2.250000  \n",
            "max      20.000000     1.000000      1.000000     1.000000     3.000000  \n",
            "\n",
            "[8 rows x 21 columns]\n",
            "\n",
            "Data Types and Shape of Each Column:\n",
            "battery_power      int64\n",
            "blue               int64\n",
            "clock_speed      float64\n",
            "dual_sim           int64\n",
            "fc                 int64\n",
            "four_g             int64\n",
            "int_memory         int64\n",
            "m_dep            float64\n",
            "mobile_wt          int64\n",
            "n_cores            int64\n",
            "pc                 int64\n",
            "px_height          int64\n",
            "px_width           int64\n",
            "ram                int64\n",
            "sc_h               int64\n",
            "sc_w               int64\n",
            "talk_time          int64\n",
            "three_g            int64\n",
            "touch_screen       int64\n",
            "wifi               int64\n",
            "price_range        int64\n",
            "dtype: object\n",
            "Shape of Data: (2000, 21)\n",
            "\n",
            "Data Splitting:\n",
            "Training set size: (1600, 20)\n",
            "Test set size: (400, 20)\n"
          ]
        }
      ]
    }
  ]
}