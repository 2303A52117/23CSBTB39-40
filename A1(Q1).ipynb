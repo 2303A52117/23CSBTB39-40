{
  "nbformat": 4,
  "nbformat_minor": 0,
  "metadata": {
    "colab": {
      "provenance": [],
      "authorship_tag": "ABX9TyPOz6LjNs6fmbjdLrbw4soV",
      "include_colab_link": true
    },
    "kernelspec": {
      "name": "python3",
      "display_name": "Python 3"
    },
    "language_info": {
      "name": "python"
    }
  },
  "cells": [
    {
      "cell_type": "markdown",
      "metadata": {
        "id": "view-in-github",
        "colab_type": "text"
      },
      "source": [
        "<a href=\"https://colab.research.google.com/github/2303A52117/23CSBTB39-40/blob/main/A1(Q1).ipynb\" target=\"_parent\"><img src=\"https://colab.research.google.com/assets/colab-badge.svg\" alt=\"Open In Colab\"/></a>"
      ]
    },
    {
      "cell_type": "code",
      "execution_count": null,
      "metadata": {
        "colab": {
          "base_uri": "https://localhost:8080/"
        },
        "id": "33K6OGDT_AOq",
        "outputId": "c1fed050-ff80-4f55-b80b-19fc0e5cb2dd"
      },
      "outputs": [
        {
          "output_type": "stream",
          "name": "stdout",
          "text": [
            "[1, 2, 3, 4, 5]\n",
            "<class 'list'>\n",
            "[6, 7, 8, 9, 10]\n",
            "<class 'list'>\n",
            "[1 2 3 4 5]\n",
            "<class 'numpy.ndarray'>\n",
            "[ 6  7  8  9 10]\n",
            "<class 'numpy.ndarray'>\n",
            "Addition of two= [1, 2, 3, 4, 5, 6, 7, 8, 9, 10]\n",
            "Subtraction of two= [-5 -5 -5 -5 -5]\n",
            "Multiplication of two= [ 6 14 24 36 50]\n",
            "Division of two= [0.16666667 0.28571429 0.375      0.44444444 0.5       ]\n",
            "Power Result= [      1     128    6561  262144 9765625]\n",
            "('madhu', 'teju', 'sahasra')\n",
            "(19, 19, 18)\n",
            "('madhu', 'teju', 'sahasra', 19, 19, 18)\n",
            "<class 'tuple'>\n",
            "sin_result= [ 0.84147098  0.90929743  0.14112001 -0.7568025  -0.95892427]\n",
            "log_result= [0.         0.69314718 1.09861229 1.38629436 1.60943791]\n",
            "log2_result= [0.         1.         1.5849625  2.         2.32192809]\n",
            "exp_result= [  2.71828183   7.3890561   20.08553692  54.59815003 148.4131591 ]\n"
          ]
        }
      ],
      "source": [
        "#Part1:Implement basic data structures using numpy,pandas\n",
        "import numpy as np\n",
        "#Lists\n",
        "#Arrays\n",
        "#Type\n",
        "list1=[1,2,3,4,5]\n",
        "print(list1)\n",
        "print(type(list1))\n",
        "list2=[6,7,8,9,10]\n",
        "print(list2)\n",
        "print(type(list2))\n",
        "arr1=np.array(list1)\n",
        "print(arr1)\n",
        "print(type(arr1))\n",
        "arr2=np.array(list2)\n",
        "print(arr2)\n",
        "print(type(arr2))\n",
        "#Mathematical operations\n",
        "Add=list1+list2\n",
        "print(\"Addition of two=\",Add)\n",
        "sub=arr1-arr2\n",
        "print(\"Subtraction of two=\",sub)\n",
        "mul=arr1*arr2\n",
        "print(\"Multiplication of two=\",mul)\n",
        "div=arr1/arr2\n",
        "print(\"Division of two=\",div)\n",
        "power_result=arr1**arr2\n",
        "print(\"Power Result=\",power_result)\n",
        "#Tuples\n",
        "tuple1=(\"madhu\",\"teju\",\"sahasra\")\n",
        "print(tuple1)\n",
        "tuple2=(19,19,18)\n",
        "print(tuple2)\n",
        "add=tuple1+tuple2\n",
        "print(add)\n",
        "print(type(add))\n",
        "#sin\n",
        "sin_result=np.sin(arr1)\n",
        "print(\"sin_result=\",sin_result)\n",
        "#log\n",
        "log_result=np.log(arr1)\n",
        "print(\"log_result=\",log_result)\n",
        "#log2\n",
        "log2_result=np.log2(arr1)\n",
        "print(\"log2_result=\",log2_result)\n",
        "#exp\n",
        "exp_result=np.exp(arr1)\n",
        "print(\"exp_result=\",exp_result)\n",
        "\n",
        "\n",
        "\n",
        "\n"
      ]
    }
  ]
}